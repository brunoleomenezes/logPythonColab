{
  "nbformat": 4,
  "nbformat_minor": 0,
  "metadata": {
    "colab": {
      "provenance": []
    },
    "kernelspec": {
      "name": "python3",
      "display_name": "Python 3"
    },
    "language_info": {
      "name": "python"
    }
  },
  "cells": [
    {
      "cell_type": "markdown",
      "source": [
        "**Segundo notebook do curso de logPythonColab**"
      ],
      "metadata": {
        "id": "fwMiVRkz47wP"
      }
    },
    {
      "cell_type": "markdown",
      "source": [
        "Operações matemáticas:"
      ],
      "metadata": {
        "id": "5mPHyA245lBU"
      }
    },
    {
      "cell_type": "code",
      "execution_count": 1,
      "metadata": {
        "colab": {
          "base_uri": "https://localhost:8080/"
        },
        "id": "ukaZeIWX46Yi",
        "outputId": "47a22939-3433-4ee8-cd78-865f8bf97146"
      },
      "outputs": [
        {
          "output_type": "stream",
          "name": "stdout",
          "text": [
            "x + y = 13\n",
            "x - y = 7\n",
            "x * y = 30\n",
            "x / y = 3.3333333333333335\n",
            "x % y = 1\n",
            "x ** y = 1000\n",
            "x // y = 3\n"
          ]
        }
      ],
      "source": [
        "x = 10\n",
        "y = 3\n",
        "\n",
        "print('x + y =', x + y)  # Adição\n",
        "print('x - y =', x - y)  # Subtração\n",
        "print('x * y =', x * y)  # Multiplicação\n",
        "print('x / y =', x / y)  # Divisão\n",
        "print('x % y =', x % y)  # Módulo\n",
        "print('x ** y =', x ** y)  # Exponenciação\n",
        "print('x // y =', x // y)  # Divisão Inteira"
      ]
    },
    {
      "cell_type": "markdown",
      "source": [
        "Operações de comparação:"
      ],
      "metadata": {
        "id": "RhiTLC0M5n59"
      }
    },
    {
      "cell_type": "code",
      "source": [
        "x = 10\n",
        "y = 3\n",
        "\n",
        "print('x == y:', x == y)  # Igual\n",
        "print('x != y:', x != y)  # Diferente\n",
        "print('x > y:', x > y)  # Maior que\n",
        "print('x < y:', x < y)  # Menor que\n",
        "print('x >= y:', x >= y)  # Maior ou igual\n",
        "print('x <= y:', x <= y)  # Menor ou igual"
      ],
      "metadata": {
        "colab": {
          "base_uri": "https://localhost:8080/"
        },
        "id": "FTyJAyKh5tuE",
        "outputId": "b1f1ad1e-0b19-494b-d54d-92a8112d6f12"
      },
      "execution_count": 2,
      "outputs": [
        {
          "output_type": "stream",
          "name": "stdout",
          "text": [
            "x == y: False\n",
            "x != y: True\n",
            "x > y: True\n",
            "x < y: False\n",
            "x >= y: True\n",
            "x <= y: False\n"
          ]
        }
      ]
    },
    {
      "cell_type": "markdown",
      "source": [
        "Operações lógicas:"
      ],
      "metadata": {
        "id": "v12VbQ1950XD"
      }
    },
    {
      "cell_type": "code",
      "source": [
        "x = True\n",
        "y = False\n",
        "\n",
        "print('x and y:', x and y)  # and\n",
        "print('x or y:', x or y)  # or\n",
        "print('not x:', not x)  # not"
      ],
      "metadata": {
        "colab": {
          "base_uri": "https://localhost:8080/"
        },
        "id": "PZzYLa3Y588T",
        "outputId": "35c908a0-af26-4fbf-90bf-c57f4e767e04"
      },
      "execution_count": 3,
      "outputs": [
        {
          "output_type": "stream",
          "name": "stdout",
          "text": [
            "x and y: False\n",
            "x or y: True\n",
            "not x: False\n"
          ]
        }
      ]
    },
    {
      "cell_type": "markdown",
      "source": [
        "Operações de atribuição:"
      ],
      "metadata": {
        "id": "r0JKOak06C6x"
      }
    },
    {
      "cell_type": "code",
      "source": [
        "x = 10\n",
        "x += 3  # x = x + 3\n",
        "print('x:', x)\n",
        "\n",
        "x -= 3  # x = x - 3\n",
        "print('x:', x)\n",
        "\n",
        "x *= 3  # x = x * 3\n",
        "print('x:', x)\n",
        "\n",
        "x /= 3  # x = x / 3\n",
        "print('x:', x)\n",
        "\n",
        "x %= 3  # x = x % 3\n",
        "print('x:', x)\n",
        "\n",
        "x **= 3  # x = x ** 3\n",
        "print('x:', x)\n",
        "\n",
        "x //= 3  # x = x // 3\n",
        "print('x:', x)"
      ],
      "metadata": {
        "colab": {
          "base_uri": "https://localhost:8080/"
        },
        "id": "p7q6cNWs6CVq",
        "outputId": "69a3c691-a22f-43fc-be07-2cdda41608eb"
      },
      "execution_count": 4,
      "outputs": [
        {
          "output_type": "stream",
          "name": "stdout",
          "text": [
            "x: 13\n",
            "x: 10\n",
            "x: 30\n",
            "x: 10.0\n",
            "x: 1.0\n",
            "x: 1.0\n",
            "x: 0.0\n"
          ]
        }
      ]
    }
  ]
}