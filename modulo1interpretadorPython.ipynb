{
  "nbformat": 4,
  "nbformat_minor": 0,
  "metadata": {
    "colab": {
      "provenance": []
    },
    "kernelspec": {
      "name": "python3",
      "display_name": "Python 3"
    },
    "language_info": {
      "name": "python"
    }
  },
  "cells": [
    {
      "cell_type": "markdown",
      "source": [
        "##Quinto notebook do curso logPythonColab"
      ],
      "metadata": {
        "id": "twctmc2Ixfzp"
      }
    },
    {
      "cell_type": "code",
      "execution_count": null,
      "metadata": {
        "id": "WFDPtNtixfP9"
      },
      "outputs": [],
      "source": [
        "# script Python\n",
        "a = 5\n",
        "b = 10\n",
        "c = a + b\n",
        "print(c)"
      ]
    },
    {
      "cell_type": "markdown",
      "source": [
        "Análise Léxica.\n",
        "\n",
        "Análise Sintática"
      ],
      "metadata": {
        "id": "lMFVIT7wyoWm"
      }
    },
    {
      "cell_type": "code",
      "source": [
        "Program\n",
        "|\n",
        "+-- Assignment: a = 5\n",
        "|\n",
        "+-- Assignment: b = 10\n",
        "|\n",
        "+-- Assignment: c = a + b\n",
        "|   |\n",
        "|   +-- Variable: a\n",
        "|   +-- Variable: b\n",
        "|\n",
        "+-- Function: print(c)"
      ],
      "metadata": {
        "id": "JQ2WbKwayRs2"
      },
      "execution_count": null,
      "outputs": []
    },
    {
      "cell_type": "markdown",
      "source": [
        "Compilação"
      ],
      "metadata": {
        "id": "BjgtwNP7ywHN"
      }
    },
    {
      "cell_type": "code",
      "source": [
        "LOAD_CONST (5)\n",
        "STORE_NAME (a)\n",
        "\n",
        "LOAD_CONST (10)\n",
        "STORE_NAME (b)\n",
        "\n",
        "LOAD_NAME (a)\n",
        "LOAD_NAME (b)\n",
        "BINARY_ADD\n",
        "STORE_NAME (c)\n",
        "\n",
        "LOAD_NAME (print)\n",
        "LOAD_NAME (c)\n",
        "CALL_FUNCTION"
      ],
      "metadata": {
        "id": "LaqV_cqAzBdk"
      },
      "execution_count": null,
      "outputs": []
    },
    {
      "cell_type": "markdown",
      "source": [
        "Interpretação"
      ],
      "metadata": {
        "id": "016nGhPpzLxT"
      }
    }
  ]
}