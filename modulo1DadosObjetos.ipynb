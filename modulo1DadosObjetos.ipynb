{
  "nbformat": 4,
  "nbformat_minor": 0,
  "metadata": {
    "colab": {
      "provenance": []
    },
    "kernelspec": {
      "name": "python3",
      "display_name": "Python 3"
    },
    "language_info": {
      "name": "python"
    }
  },
  "cells": [
    {
      "cell_type": "markdown",
      "source": [
        "##Terceiro notebook do curso de logPythonColab"
      ],
      "metadata": {
        "id": "BGJhM9GYMPk2"
      }
    },
    {
      "cell_type": "markdown",
      "source": [
        "A variável x que aponta para um objeto do tipo int com o valor 10. Ao chamar a função type(), podemos ver o tipo do objeto (int). Com id(), obtemos a identidade do objeto (localização na memória). A função sys.getrefcount(x) nos dá a contagem de referência para o objeto."
      ],
      "metadata": {
        "id": "61mCA2IxMf9k"
      }
    },
    {
      "cell_type": "code",
      "execution_count": 1,
      "metadata": {
        "colab": {
          "base_uri": "https://localhost:8080/"
        },
        "id": "FhsVjG22MNWG",
        "outputId": "ea93d6c3-f9f8-4742-d5cb-0d924deb9466"
      },
      "outputs": [
        {
          "output_type": "stream",
          "name": "stdout",
          "text": [
            "<class 'int'>\n",
            "140683969004048\n",
            "462\n"
          ]
        }
      ],
      "source": [
        "# Criando uma variável x que aponta para um objeto inteiro com o valor 10\n",
        "x = 10\n",
        "\n",
        "# Tipo do objeto que x está apontando\n",
        "print(type(x)) # Saída: <class 'int'>\n",
        "\n",
        "# Identidade (endereço de memória) do objeto que x está apontando\n",
        "print(id(x)) # Saída: Um número que representa a localização do objeto na memória\n",
        "\n",
        "# Contagem de referência\n",
        "import sys\n",
        "print(sys.getrefcount(x)) # Saída: Número de referências ao objeto. \n",
        "# getrefcount também conta a própria chamada como uma referência, portanto, o número será um a mais do que o esperado."
      ]
    },
    {
      "cell_type": "markdown",
      "source": [
        "Inteiro (int): Este é um número inteiro."
      ],
      "metadata": {
        "id": "7Pk5Wk7LM_9T"
      }
    },
    {
      "cell_type": "code",
      "source": [
        "x = 10\n",
        "print(type(x))  # Saída: <class 'int'>\n",
        "print(id(x))    # Saída: Identidade única (endereço de memória) do objeto\n",
        "print(x)        # Saída: 10\n",
        "print(sys.getrefcount(x)) # Saída: Número de referências ao objeto. "
      ],
      "metadata": {
        "colab": {
          "base_uri": "https://localhost:8080/"
        },
        "id": "2yGXXRkINByz",
        "outputId": "07cb42d1-207d-4b1f-8b58-ec62d8b2b7e8"
      },
      "execution_count": 4,
      "outputs": [
        {
          "output_type": "stream",
          "name": "stdout",
          "text": [
            "<class 'int'>\n",
            "140683969004048\n",
            "10\n",
            "463\n"
          ]
        }
      ]
    },
    {
      "cell_type": "markdown",
      "source": [
        "Ponto flutuante (float)."
      ],
      "metadata": {
        "id": "7VPosASJOsq2"
      }
    },
    {
      "cell_type": "code",
      "source": [
        "y = 3.14\n",
        "print(type(y))  # Saída: <class 'float'>\n",
        "print(id(y))    # Saída: Identidade única (endereço de memória) do objeto\n",
        "print(y)        # Saída: 3.14\n",
        "print(sys.getrefcount(y)) # Saída: Número de referências ao objeto. "
      ],
      "metadata": {
        "colab": {
          "base_uri": "https://localhost:8080/"
        },
        "id": "pdZOnQGMO7OE",
        "outputId": "88bad176-61c1-4c6f-b6b5-0206ef456aa4"
      },
      "execution_count": 5,
      "outputs": [
        {
          "output_type": "stream",
          "name": "stdout",
          "text": [
            "<class 'float'>\n",
            "140683549954096\n",
            "3.14\n",
            "3\n"
          ]
        }
      ]
    },
    {
      "cell_type": "markdown",
      "source": [
        "String (str)."
      ],
      "metadata": {
        "id": "Rhsi5z15PH71"
      }
    },
    {
      "cell_type": "code",
      "source": [
        "z = \"Hello, world!\"\n",
        "print(type(z))  # Saída: <class 'str'>\n",
        "print(id(z))    # Saída: Identidade única (endereço de memória) do objeto\n",
        "print(z)        # Saída: Hello, world!\n",
        "print(sys.getrefcount(z)) # Saída: Número de referências ao objeto. "
      ],
      "metadata": {
        "colab": {
          "base_uri": "https://localhost:8080/"
        },
        "id": "Vwk9kSzLPBtU",
        "outputId": "c246fd01-9b66-47cf-906c-37c27fc9895c"
      },
      "execution_count": 6,
      "outputs": [
        {
          "output_type": "stream",
          "name": "stdout",
          "text": [
            "<class 'str'>\n",
            "140683271023344\n",
            "Hello, world!\n",
            "4\n"
          ]
        }
      ]
    },
    {
      "cell_type": "markdown",
      "source": [
        "Capacidade"
      ],
      "metadata": {
        "id": "GTW6tOCdPx76"
      }
    },
    {
      "cell_type": "code",
      "source": [
        "# inteiros têm tamanho ilimitado em Python 3\n",
        "big_int = 10**1000\n",
        "print(f\"Grande inteiro: {big_int}\")\n",
        "\n",
        "# números de ponto flutuante têm uma precisão de até 15 dígitos\n",
        "big_float = 1.79e308\n",
        "print(f\"Grande ponto flutuante: {big_float}\")\n",
        "\n",
        "# números complexos têm uma parte real e uma parte imaginária, cada uma sendo um float\n",
        "complex_num = complex(big_float, big_float)\n",
        "print(f\"Complexo número: {complex_num}\")\n",
        "\n",
        "# booleanos podem ser True ou False\n",
        "bool_val = True\n",
        "print(f\"Valor booleano: {bool_val}\")\n",
        "\n",
        "# strings podem ter um tamanho praticamente ilimitado, limitado apenas pela memória disponível\n",
        "big_str = 'a' * 10**6\n",
        "print(f\"Tamanho da string grande: {len(big_str)}\")\n",
        "\n",
        "# listas podem conter um número ilimitado de itens\n",
        "big_list = [1] * 10**6\n",
        "print(f\"Tamanho da lista grande: {len(big_list)}\")\n",
        "\n",
        "# tuplas são semelhantes às listas, mas são imutáveis\n",
        "big_tuple = (1,) * 10**6\n",
        "print(f\"Tamanho da tupla grande: {len(big_tuple)}\")\n",
        "\n",
        "# conjuntos podem conter um número ilimitado de itens únicos\n",
        "big_set = set(range(10**6))\n",
        "print(f\"Tamanho do conjunto grande: {len(big_set)}\")\n",
        "\n",
        "# dicionários podem conter um número ilimitado de pares chave-valor\n",
        "big_dict = {i: i for i in range(10**6)}\n",
        "print(f\"Tamanho do dicionário grande: {len(big_dict)}\")\n"
      ],
      "metadata": {
        "colab": {
          "base_uri": "https://localhost:8080/"
        },
        "id": "FMLcCGa_Pzuq",
        "outputId": "f03dc21d-ec2f-488c-cd4a-1f6522f844b9"
      },
      "execution_count": 7,
      "outputs": [
        {
          "output_type": "stream",
          "name": "stdout",
          "text": [
            "Grande inteiro: 10000000000000000000000000000000000000000000000000000000000000000000000000000000000000000000000000000000000000000000000000000000000000000000000000000000000000000000000000000000000000000000000000000000000000000000000000000000000000000000000000000000000000000000000000000000000000000000000000000000000000000000000000000000000000000000000000000000000000000000000000000000000000000000000000000000000000000000000000000000000000000000000000000000000000000000000000000000000000000000000000000000000000000000000000000000000000000000000000000000000000000000000000000000000000000000000000000000000000000000000000000000000000000000000000000000000000000000000000000000000000000000000000000000000000000000000000000000000000000000000000000000000000000000000000000000000000000000000000000000000000000000000000000000000000000000000000000000000000000000000000000000000000000000000000000000000000000000000000000000000000000000000000000000000000000000000000000000000000000000000000000000000000000000000000000000000000000\n",
            "Grande ponto flutuante: 1.79e+308\n",
            "Complexo número: (1.79e+308+1.79e+308j)\n",
            "Valor booleano: True\n",
            "Tamanho da string grande: 1000000\n",
            "Tamanho da lista grande: 1000000\n",
            "Tamanho da tupla grande: 1000000\n",
            "Tamanho do conjunto grande: 1000000\n",
            "Tamanho do dicionário grande: 1000000\n"
          ]
        }
      ]
    }
  ]
}