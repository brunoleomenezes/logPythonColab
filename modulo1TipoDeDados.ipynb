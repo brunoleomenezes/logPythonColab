{
  "nbformat": 4,
  "nbformat_minor": 0,
  "metadata": {
    "colab": {
      "provenance": []
    },
    "kernelspec": {
      "name": "python3",
      "display_name": "Python 3"
    },
    "language_info": {
      "name": "python"
    }
  },
  "cells": [
    {
      "cell_type": "markdown",
      "source": [
        "## **Primeiro notebook do curso de logPythonColab**"
      ],
      "metadata": {
        "id": "DkFLrldtzfTg"
      }
    },
    {
      "cell_type": "markdown",
      "source": [
        "Comentários: Quaisquer textos precedidos por um # é um comentário e é ignorado pelo interpretador Python. Comentários são úteis para anotar seu código para que você e outros desenvolvedores possam entender o que o código faz."
      ],
      "metadata": {
        "id": "X6wTVLGsz0dg"
      }
    },
    {
      "cell_type": "code",
      "execution_count": 1,
      "metadata": {
        "id": "Bv441WT_zTeb"
      },
      "outputs": [],
      "source": [
        "# Isso é um comentário em Python"
      ]
    },
    {
      "cell_type": "markdown",
      "source": [
        "Variáveis: Não é necessário declarar variáveis antes de usá-las ou declarar seu tipo em Python. Basta atribuir um valor a uma variável e você pode usá-la."
      ],
      "metadata": {
        "id": "2hwEewpx0Mnu"
      }
    },
    {
      "cell_type": "code",
      "source": [
        "x = 10  # x é um inteiro\n",
        "y = \"Hello, World!\"  # y é uma string"
      ],
      "metadata": {
        "id": "47RQLCD2zeRR"
      },
      "execution_count": 2,
      "outputs": []
    },
    {
      "cell_type": "markdown",
      "source": [
        "Indentação: Python usa indentação para delimitar blocos de código, ao contrário de muitas outras linguagens de programação que usam colchetes ou palavras-chave específicas."
      ],
      "metadata": {
        "id": "tKXNoqqP0fg1"
      }
    },
    {
      "cell_type": "code",
      "source": [
        "if x > 0:\n",
        "    print(\"x é positivo\")"
      ],
      "metadata": {
        "colab": {
          "base_uri": "https://localhost:8080/"
        },
        "id": "b1cHPXYK0RBd",
        "outputId": "720c0cb9-8802-44d2-c346-1eea5a174d86"
      },
      "execution_count": 3,
      "outputs": [
        {
          "output_type": "stream",
          "name": "stdout",
          "text": [
            "x é positivo\n"
          ]
        }
      ]
    },
    {
      "cell_type": "markdown",
      "source": [
        "Estruturas de controle: Python suporta as estruturas de controle de fluxo habituais como if, for e while."
      ],
      "metadata": {
        "id": "q2DGJ3GB0rx0"
      }
    },
    {
      "cell_type": "code",
      "source": [
        "if x > 0:\n",
        "    print(\"x é positivo\")\n",
        "elif x < 0:\n",
        "    print(\"x é negativo\")\n",
        "else:\n",
        "    print(\"x é zero\")"
      ],
      "metadata": {
        "colab": {
          "base_uri": "https://localhost:8080/"
        },
        "id": "05Ggnwtt0lBF",
        "outputId": "62fb8f6d-2357-44f2-e6ca-23634c56f11a"
      },
      "execution_count": 4,
      "outputs": [
        {
          "output_type": "stream",
          "name": "stdout",
          "text": [
            "x é positivo\n"
          ]
        }
      ]
    },
    {
      "cell_type": "markdown",
      "source": [
        "Funções: Em Python, uma função é definida usando a palavra-chave def."
      ],
      "metadata": {
        "id": "Sh1_RNt702ed"
      }
    },
    {
      "cell_type": "code",
      "source": [
        "def hello(name):\n",
        "    print(\"Oi, \" + name)\n",
        "\n",
        "hello(\"Bruno\")  # Chama a função com \"Bruno\" como argumento"
      ],
      "metadata": {
        "colab": {
          "base_uri": "https://localhost:8080/"
        },
        "id": "VqMXPbAc0yYF",
        "outputId": "2eecd4aa-d51d-4e88-82ee-382b4f3e9436"
      },
      "execution_count": 5,
      "outputs": [
        {
          "output_type": "stream",
          "name": "stdout",
          "text": [
            "Oi, Bruno\n"
          ]
        }
      ]
    },
    {
      "cell_type": "markdown",
      "source": [
        "Listas: Python tem suporte integrado para listas."
      ],
      "metadata": {
        "id": "jy3jCyzR1ANz"
      }
    },
    {
      "cell_type": "code",
      "source": [
        "fruits = [\"apple\", \"banana\", \"cherry\"]\n",
        "print(fruits[0])  # Imprime \"apple\""
      ],
      "metadata": {
        "colab": {
          "base_uri": "https://localhost:8080/"
        },
        "id": "2Tf01MXZ0_yb",
        "outputId": "a6d0c67b-0a56-4b7a-a32c-13a903fe1a19"
      },
      "execution_count": 6,
      "outputs": [
        {
          "output_type": "stream",
          "name": "stdout",
          "text": [
            "apple\n"
          ]
        }
      ]
    },
    {
      "cell_type": "markdown",
      "source": [
        "Dicionários: Python também suporta dicionários, que são coleções não ordenadas de itens.\n"
      ],
      "metadata": {
        "id": "Rf3dqJvt1Hcb"
      }
    },
    {
      "cell_type": "code",
      "source": [
        "person = {\"name\": \"Bruno\", \"age\": 20}\n",
        "print(person[\"name\"])  # Imprime \"Bruno\""
      ],
      "metadata": {
        "colab": {
          "base_uri": "https://localhost:8080/"
        },
        "id": "Sw3TnH5v1Gum",
        "outputId": "f7d1904a-63c5-4e45-a917-b8ebd2038381"
      },
      "execution_count": 7,
      "outputs": [
        {
          "output_type": "stream",
          "name": "stdout",
          "text": [
            "Bruno\n"
          ]
        }
      ]
    },
    {
      "cell_type": "markdown",
      "source": [
        "Importação de módulos: Python permite que você use código de outros módulos ou pacotes usando a instrução import."
      ],
      "metadata": {
        "id": "qxlJeYsr1Xyi"
      }
    },
    {
      "cell_type": "code",
      "source": [
        "import math\n",
        "print(math.sqrt(16))  # Imprime \"4.0\""
      ],
      "metadata": {
        "colab": {
          "base_uri": "https://localhost:8080/"
        },
        "id": "FbyP6uaW1auE",
        "outputId": "0d28d458-d4b1-4d8b-d483-ef43a5c904df"
      },
      "execution_count": 8,
      "outputs": [
        {
          "output_type": "stream",
          "name": "stdout",
          "text": [
            "4.0\n"
          ]
        }
      ]
    },
    {
      "cell_type": "markdown",
      "source": [
        "Booleanos (bool): O tipo booleano tem apenas dois valores: True e False. Ele é frequentemente usado para testes condicionais."
      ],
      "metadata": {
        "id": "wT7ODG6e1ns5"
      }
    },
    {
      "cell_type": "code",
      "source": [
        "is_adult = True  # is_adult é um booleano"
      ],
      "metadata": {
        "id": "_gRDNH641o5w"
      },
      "execution_count": 9,
      "outputs": []
    },
    {
      "cell_type": "markdown",
      "source": [
        "As variáveis também podem ser usadas para guardar o resultado de expressões e operações, e podem ser usadas em outras expressões:"
      ],
      "metadata": {
        "id": "obmSHZlN1zkQ"
      }
    },
    {
      "cell_type": "code",
      "source": [
        "x = 10\n",
        "y = 20\n",
        "z = x + y  # z agora contém o valor 30"
      ],
      "metadata": {
        "id": "i-v2JsJx1xjL"
      },
      "execution_count": 10,
      "outputs": []
    }
  ]
}