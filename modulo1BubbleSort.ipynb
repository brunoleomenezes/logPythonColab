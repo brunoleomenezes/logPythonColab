{
  "nbformat": 4,
  "nbformat_minor": 0,
  "metadata": {
    "colab": {
      "provenance": []
    },
    "kernelspec": {
      "name": "python3",
      "display_name": "Python 3"
    },
    "language_info": {
      "name": "python"
    }
  },
  "cells": [
    {
      "cell_type": "markdown",
      "source": [
        "Quarto notebook do curso logPythonColab"
      ],
      "metadata": {
        "id": "KqkCB5X1oMrR"
      }
    },
    {
      "cell_type": "code",
      "execution_count": 1,
      "metadata": {
        "colab": {
          "base_uri": "https://localhost:8080/"
        },
        "id": "YzPQ6YRtoK8d",
        "outputId": "07557093-9522-4a64-f51d-61248e11c755"
      },
      "outputs": [
        {
          "output_type": "stream",
          "name": "stdout",
          "text": [
            "Lista original: [64, 34, 25, 12, 22, 11, 90]\n",
            "Lista ordenada: [11, 12, 22, 25, 34, 64, 90]\n"
          ]
        }
      ],
      "source": [
        "def bubble_sort(lista):\n",
        "    n = len(lista)\n",
        "    for i in range(n):\n",
        "        for j in range(0, n - i - 1):\n",
        "            if lista[j] > lista[j + 1]:\n",
        "                lista[j], lista[j + 1] = lista[j + 1], lista[j]\n",
        "    return lista\n",
        "\n",
        "# Testando o algoritmo com uma lista de números\n",
        "numeros = [64, 34, 25, 12, 22, 11, 90]\n",
        "print(\"Lista original:\", numeros)\n",
        "bubble_sort(numeros)\n",
        "print(\"Lista ordenada:\", numeros)"
      ]
    }
  ]
}